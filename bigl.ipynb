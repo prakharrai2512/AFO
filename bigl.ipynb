{
 "cells": [
  {
   "cell_type": "code",
   "execution_count": 1,
   "metadata": {},
   "outputs": [],
   "source": [
    "import os"
   ]
  },
  {
   "cell_type": "code",
   "execution_count": 22,
   "metadata": {},
   "outputs": [
    {
     "name": "stdout",
     "output_type": "stream",
     "text": [
      "132\n"
     ]
    }
   ],
   "source": [
    "name = []\n",
    "\n",
    "for imname in os.listdir(\"./dataset1/images/\"):\n",
    "    name.append(imname[0:-4])\n",
    "    #print(imname[0:-4])\n",
    "\n",
    "for imname in os.listdir(\"./dataset1/test/\"):\n",
    "    name.append(imname[0:-4])\n",
    "    #print(imname[0:-4])\n",
    "\n",
    "print(len(name))"
   ]
  },
  {
   "cell_type": "code",
   "execution_count": 23,
   "metadata": {},
   "outputs": [],
   "source": [
    "gname = set()\n",
    "\n",
    "for imname in os.listdir(\"./dataset1/ground_truths/\"):\n",
    "    gname.add(imname.split('_')[0])"
   ]
  },
  {
   "cell_type": "code",
   "execution_count": 25,
   "metadata": {},
   "outputs": [
    {
     "name": "stdout",
     "output_type": "stream",
     "text": [
      "134\n",
      "{'9656', '1724', '9599', '2353', '9510', '9909', '9722', '9410', '2129', '2408', '2075', '215', '9362', '2128', '9351', '2001', '1730', '9660', '2194', '2179', '9382', '2368', '1929', '307', '9657', '2149', '1824', '2393', '9700', '9459', '114', '9856', '9516', '9348', '2434', '1899', '2147', '9671', '9595', '9795', '9835', '1906', '1862', '9901', '1956', '1740', '216', '2121', '106', '1802', '9768', '1894', '1722', '9614', '416', '9458', '1987', '9611', '2097', '213', '9652', '214', '1698', '9712', '1934', '2185', '9489', '9295', '2363', '1743', '1909', '111', '9644', '2088', '2202', '9815', '9878', '9432', '1857', '9793', '606', '2098', '9809', '2390', '2143', '2349', '2034', '9606', '9579', '9724', '9418', '9427', '510', '2336', '2306', '411', '2284', '2209', '9734', '1801', '1962', '2048', '1985', '1800', '9573', '9428', '2157', '9484', '9412', '2436', '414', '9455', '9877', '2009', '1867', '1991', '2352', '2144', '9604', '9575', '2340', '1864', '9745', '2250', '1805', '9422', '212', '9713', '2242', '2118', '9668', '1818', '1727', '9481'}\n"
     ]
    }
   ],
   "source": [
    "print(len(gname))\n",
    "print(gname)"
   ]
  },
  {
   "cell_type": "code",
   "execution_count": 26,
   "metadata": {},
   "outputs": [],
   "source": [
    "fname = []\n",
    "for fk in gname:\n",
    "    if fk not in name:\n",
    "        fname.append(fk)"
   ]
  },
  {
   "cell_type": "code",
   "execution_count": 27,
   "metadata": {},
   "outputs": [
    {
     "name": "stdout",
     "output_type": "stream",
     "text": [
      "['2075', '9657']\n"
     ]
    }
   ],
   "source": [
    "print(fname)"
   ]
  }
 ],
 "metadata": {
  "kernelspec": {
   "display_name": "Python 3.8.10 ('prakhar_pytorch')",
   "language": "python",
   "name": "python3"
  },
  "language_info": {
   "codemirror_mode": {
    "name": "ipython",
    "version": 3
   },
   "file_extension": ".py",
   "mimetype": "text/x-python",
   "name": "python",
   "nbconvert_exporter": "python",
   "pygments_lexer": "ipython3",
   "version": "3.8.10"
  },
  "orig_nbformat": 4,
  "vscode": {
   "interpreter": {
    "hash": "603527dc4b5f0cf90dba6785ed8ce1bf41404d422ebeb0779687782e89bf431c"
   }
  }
 },
 "nbformat": 4,
 "nbformat_minor": 2
}
